{
  "cells": [
    {
      "cell_type": "code",
      "execution_count": 13,
      "metadata": {
        "id": "_ecsyxcrKSWb"
      },
      "outputs": [],
      "source": [
        "import tensorflow as tf\n",
        "import pandas as pd\n",
        "import numpy as np\n",
        "import matplotlib.pyplot as plt\n",
        "from pathlib import Path\n",
        "import urllib.request\n",
        "\n",
        "data_path = Path('data/appml-assignment1-dataset-v2.pkl')\n",
        "correct_tf_path = Path('data/correct.tfrecord')\n",
        "if not data_path.is_file() or not correct_tf_path.is_file():\n",
        "  Path('data').mkdir(parents=True, exist_ok=True)\n",
        "  url = \"https://github.com/SanthoshV14/app-ml-hw-1/blob/main/data/appml-assignment1-dataset-v2.pkl?raw=true\"\n",
        "  urllib.request.urlretrieve(url, filename=data_path)\n",
        "  url = 'https://github.com/SanthoshV14/app-ml-hw-1/blob/main/data/correct.tfrecord?raw=true'\n",
        "  urllib.request.urlretrieve(url, filename=correct_tf_path)\n",
        "\n",
        "pkl = pd.read_pickle(\"./data/appml-assignment1-dataset-v2.pkl\")\n",
        "X = pkl['X']\n",
        "y = pkl['y']"
      ]
    },
    {
      "cell_type": "code",
      "execution_count": 14,
      "metadata": {
        "id": "oFF43q45NRls"
      },
      "outputs": [],
      "source": [
        "# Fractional Change\n",
        "change = (X['CAD-high'] - X['CAD-close']) / X['CAD-close']\n",
        "bins = np.linspace(-0.001, 0.001, 21)\n",
        "target = np.digitize(change, bins=bins)\n",
        "\n",
        "date = pd.to_datetime(X['date'])\n",
        "\n",
        "# Day of the Week\n",
        "weekday = date.dt.day_of_week.astype('category')\n",
        "\n",
        "# Hour of the Day\n",
        "hour = date.dt.hour.astype('category')\n",
        "\n",
        "# Month of the Year\n",
        "month = date.dt.month.astype('category') \n",
        "\n",
        "# Tikcers\n",
        "tickers = X.iloc[:, 1:]"
      ]
    },
    {
      "cell_type": "code",
      "execution_count": 15,
      "metadata": {
        "id": "QWojYxOfNTld"
      },
      "outputs": [],
      "source": [
        "# Feature Creation\n",
        "from tensorflow.train import FloatList,Int64List, Feature,Features,Example\n",
        "\n",
        "with tf.io.TFRecordWriter('dataset.tfrecord') as f:\n",
        "    for index in range(len(X)):\n",
        "        feature={\n",
        "            'tickers':Feature(float_list=FloatList(value=tickers.values[index])),\n",
        "            'weekday':Feature(int64_list=Int64List(value=[weekday.values[index]])),\n",
        "            'month':Feature(int64_list=Int64List(value=[month.values[index]])),\n",
        "            'hour':Feature(int64_list=Int64List(value=[hour.values[index]])),\n",
        "            'target':Feature(int64_list=Int64List(value=[target[index]])),\n",
        "        }\n",
        "        myExamp=Example(features=Features(feature=feature))\n",
        "        f.write(myExamp.SerializeToString())"
      ]
    },
    {
      "cell_type": "code",
      "execution_count": 16,
      "metadata": {
        "id": "eHkruBTHTnCu"
      },
      "outputs": [],
      "source": [
        "class myImputer(tf.keras.layers.experimental.preprocessing.PreprocessingLayer):\n",
        "  def __init__(self, **kwargs):\n",
        "    super().__init__( **kwargs)\n",
        "  \n",
        "  def build(self,batch_input_shape):\n",
        "    self.imps=self.add_weight(name='imps',shape=(batch_input_shape[-1]),\n",
        "    initializer=\"zeros\",trainable=False)\n",
        "    super().build(batch_input_shape)\n",
        "  \n",
        "  def call(self, X):\n",
        "    return tf.where(tf.math.is_nan(X),self.imps,X)\n",
        "  \n",
        "  def adapt(self, dataset):\n",
        "    self.build(dataset.element_spec.shape)\n",
        "    sumOfNonNaNs=dataset.map(\n",
        "        lambda z: tf.where(tf.math.is_nan(z),\n",
        "                           tf.zeros_like(z),z)).reduce(\n",
        "                               tf.zeros_like(self.imps),\n",
        "                               lambda x,y: x+tf.reduce_sum(y,axis=0))\n",
        "    \n",
        "    numberOfNonNaNs=dataset.map(\n",
        "        lambda z: tf.where(tf.math.is_nan(z),\n",
        "                           tf.zeros_like(z),tf.ones_like(z))).reduce(\n",
        "                               tf.zeros_like(self.imps),\n",
        "                               lambda x,y: x+tf.reduce_sum(y,axis=0))\n",
        "    self.imps.assign(tf.math.divide(sumOfNonNaNs,numberOfNonNaNs))\n",
        "  \n",
        "  def computer_output_shape(self,batch_input_shape):\n",
        "    return batch_input_shape"
      ]
    },
    {
      "cell_type": "code",
      "execution_count": 17,
      "metadata": {
        "id": "XflEkZBlU1fF"
      },
      "outputs": [],
      "source": [
        "# Define the feature description\n",
        "feature_description = {\n",
        "    'tickers': tf.io.FixedLenFeature([tickers.shape[1]], tf.float32, np.zeros(tickers.shape[1])),\n",
        "    'weekday': tf.io.FixedLenFeature([], tf.int64, default_value=0),\n",
        "    'month': tf.io.FixedLenFeature([], tf.int64, default_value=0),\n",
        "    'hour': tf.io.FixedLenFeature([], tf.int64, default_value=0),\n",
        "    'target': tf.io.FixedLenFeature([], tf.int64, default_value=0)\n",
        "}\n",
        "\n",
        "# Parse the serialized examples into a dictionary of tensors\n",
        "def parse_example(serialized_example):\n",
        "    example = tf.io.parse_example(serialized_example, feature_description)\n",
        "    features = {k: v for k, v in example.items() if k != 'target'}\n",
        "    target = example['target']\n",
        "    return features, target"
      ]
    },
    {
      "cell_type": "code",
      "execution_count": 18,
      "metadata": {
        "id": "jyew9JRWsRLU"
      },
      "outputs": [],
      "source": [
        "# Split the dataset into training, validation, and testing datasets\n",
        "raw_dataset = tf.data.TFRecordDataset(['dataset.tfrecord'])\n",
        "datLen = raw_dataset.reduce(0,lambda x,y: x+1)\n",
        "n_valid = int(datLen.numpy()*.1)\n",
        "n_test = int(datLen.numpy()*.1)\n",
        "n_train = datLen.numpy()-n_valid-n_test\n",
        "train = raw_dataset.take(n_train).batch(2048).map(\n",
        "    parse_example,num_parallel_calls=8).cache()\n",
        "\n",
        "test = raw_dataset.skip(n_train).take(n_test).batch(2048).map(\n",
        "    parse_example,num_parallel_calls=8).cache()\n",
        "\n",
        "valid = raw_dataset.skip(n_train+n_test).take(n_valid).batch(2048).map(\n",
        "    parse_example,num_parallel_calls=8).cache()\n",
        "\n",
        "# Define input layers\n",
        "inputDict = {\n",
        "    'tickers': tf.keras.Input(shape=(188,), dtype=tf.float32),\n",
        "    'weekday': tf.keras.Input(shape=(), dtype=tf.int64),\n",
        "    'month': tf.keras.Input(shape=(), dtype=tf.int64),\n",
        "    'hour': tf.keras.Input(shape=(), dtype=tf.int64)\n",
        "}\n",
        "\n",
        "# Create an instance of the Imputer layer\n",
        "imputer = myImputer()\n",
        "imputer.adapt(train.map(lambda x,y: x['tickers']))\n",
        "normalizer = tf.keras.layers.Normalization(axis=-1)\n",
        "normalizer.adapt(train.map(lambda x,y: imputer(x['tickers'])))"
      ]
    },
    {
      "cell_type": "code",
      "execution_count": 19,
      "metadata": {
        "id": "qdTP4IOyA2eh"
      },
      "outputs": [],
      "source": [
        "weekday_nTokens = 6\n",
        "weekday_catEncoder=tf.keras.layers.IntegerLookup(max_tokens=weekday_nTokens,num_oov_indices=0)\n",
        "weekday_catEncoder.adapt(train.map(lambda x,y:x['weekday']))\n",
        "weekday_catInts=weekday_catEncoder(inputDict['weekday'])\n",
        "\n",
        "month_nTokens = 12\n",
        "month_catEncoder=tf.keras.layers.IntegerLookup(max_tokens=month_nTokens,num_oov_indices=0)\n",
        "month_catEncoder.adapt(train.map(lambda x,y:x['month']))\n",
        "month_catInts=month_catEncoder(inputDict['month'])\n",
        "\n",
        "hour_nTokens = 24\n",
        "hour_catEncoder=tf.keras.layers.IntegerLookup(max_tokens=hour_nTokens,num_oov_indices=0)\n",
        "hour_catEncoder.adapt(train.map(lambda x,y:x['hour']))\n",
        "hour_catInts=hour_catEncoder(inputDict['hour'])\n",
        "\n",
        "weekday_embedding = tf.keras.layers.Embedding(weekday_nTokens, 2)(weekday_catInts)\n",
        "month_embedding = tf.keras.layers.Embedding(month_nTokens, 2)(month_catInts)\n",
        "hour_embedding = tf.keras.layers.Embedding(hour_nTokens, 2)(hour_catInts)\n",
        "\n",
        "# Flatten the embedding outputs\n",
        "weekday_embedding = tf.keras.layers.Flatten()(weekday_embedding)\n",
        "month_embedding = tf.keras.layers.Flatten()(month_embedding)\n",
        "hour_embedding = tf.keras.layers.Flatten()(hour_embedding)"
      ]
    },
    {
      "cell_type": "code",
      "execution_count": 20,
      "metadata": {
        "colab": {
          "base_uri": "https://localhost:8080/"
        },
        "id": "D3E3RJ0MjCTx",
        "outputId": "4198ecd6-67b0-4002-9813-6dfc1dfacb3b"
      },
      "outputs": [
        {
          "output_type": "stream",
          "name": "stdout",
          "text": [
            "tf.Tensor(\n",
            "[13 11 15 16 16 21 19 19 18 14 13 14 21 15 15 21 12 18 11 21 11 15 14 18\n",
            " 15 16 16 21 18 21 14 18], shape=(32,), dtype=int64)\n",
            "tf.Tensor(\n",
            "[13 14 14 22 14 22 14 21 12 16 15 14 12 18 13 22 12 16 12 14 13 13 13 14\n",
            " 17 11 17 22 22 22 18 15], shape=(32,), dtype=int64)\n"
          ]
        }
      ],
      "source": [
        "for el in tf.data.TFRecordDataset(['dataset.tfrecord']).batch(32).map(parse_example).take(1):\n",
        "  print(el[1])\n",
        "\n",
        "for el in tf.data.TFRecordDataset(['data/correct.tfrecord']).batch(32).map(parse_example).take(1):\n",
        "  print(el[1])"
      ]
    },
    {
      "cell_type": "code",
      "execution_count": 21,
      "metadata": {
        "colab": {
          "base_uri": "https://localhost:8080/",
          "height": 451
        },
        "id": "XuROgVhwKvSg",
        "outputId": "bc021da5-88fc-4ae0-8027-5a38125e6400"
      },
      "outputs": [
        {
          "output_type": "display_data",
          "data": {
            "text/plain": [
              "<Figure size 800x500 with 1 Axes>"
            ],
            "image/png": "[encoded data removed]"
          },
          "metadata": {}
        }
      ],
      "source": [
        "# Concatenate all the inputs\n",
        "preproced = tf.concat([normalizer(imputer(inputDict['tickers'])), weekday_embedding, month_embedding, hour_embedding], axis=-1)\n",
        "\n",
        "restMod = tf.keras.Sequential([\n",
        "    tf.keras.layers.Dense(1024,activation='relu'),\n",
        "    tf.keras.layers.Dense(512,activation='relu'),\n",
        "    tf.keras.layers.Dropout(0.2),\n",
        "\n",
        "    tf.keras.layers.Dense(512,activation='relu'),\n",
        "    tf.keras.layers.Dense(256,activation='relu'),\n",
        "\n",
        "    tf.keras.layers.Dense(22, activation='softmax')\n",
        "    ])\n",
        "\n",
        "decs = restMod(preproced)\n",
        "whole_model = tf.keras.Model(inputs=inputDict, outputs=decs)\n",
        "whole_model.compile(optimizer='adam', loss='sparse_categorical_crossentropy', metrics=['accuracy'])\n",
        "# whole_model.summary()\n",
        "\n",
        "# Defining callbacks\n",
        "checkpoint_cb = tf.keras.callbacks.ModelCheckpoint('mySavedModel', save_best_only=True)\n",
        "early_stopping_cb = tf.keras.callbacks.EarlyStopping(patience=10,restore_best_weights=True)\n",
        "\n",
        "# Training the model\n",
        "history = whole_model.fit(train, epochs=200, verbose=0, validation_data=valid, callbacks=[early_stopping_cb, checkpoint_cb])\n",
        "\n",
        "\n",
        "pd.DataFrame(history.history).plot(figsize=(8, 5))\n",
        "plt.grid(True)\n",
        "plt.gca().set_ylim(0, 1)\n",
        "plt.show()"
      ]
    },
    {
      "cell_type": "code",
      "source": [
        "whole_model.evaluate(test)"
      ],
      "metadata": {
        "colab": {
          "base_uri": "https://localhost:8080/"
        },
        "id": "XT-IFRSlM47a",
        "outputId": "9bfe5649-d4dc-4d8a-ffa2-c56cc28bec0f"
      },
      "execution_count": 23,
      "outputs": [
        {
          "output_type": "stream",
          "name": "stdout",
          "text": [
            "2/2 [==============================] - 1s 160ms/step - loss: 2.1793 - accuracy: 0.2381\n"
          ]
        },
        {
          "output_type": "execute_result",
          "data": {
            "text/plain": [
              "[2.1793372631073, 0.23814329504966736]"
            ]
          },
          "metadata": {},
          "execution_count": 23
        }
      ]
    }
  ],
  "metadata": {
    "accelerator": "GPU",
    "colab": {
      "provenance": []
    },
    "gpuClass": "standard",
    "kernelspec": {
      "display_name": "Python 3",
      "name": "python3"
    },
    "language_info": {
      "name": "python"
    }
  },
  "nbformat": 4,
  "nbformat_minor": 0
}